{
 "cells": [
  {
   "cell_type": "markdown",
   "metadata": {
    "slideshow": {
     "slide_type": "slide"
    }
   },
   "source": [
    "# Tutorial on Quantum Programming: An Introduction\n",
    "\n",
    "### Now: <br/>1/3 Motivation: Why Quantum Computing?\n",
    "### Later today: <br/>2/3 Elements of Quantum Programming<br/> 3/3 Solving Problems with Quantum Programs\n",
    "\n",
    "### `Abraham Asfaw`, IBM Quantum <br/> twitter: `@abe_asfaw`<br/> github: `@aasfaw`\n",
    "<center><img src='./ieeeqw2020-abe-asfaw-talk-dependencies/images/gitimage.png'></center>"
   ]
  },
  {
   "cell_type": "markdown",
   "metadata": {
    "slideshow": {
     "slide_type": "slide"
    }
   },
   "source": [
    "# Problem: How would you find the marked number in this box?\n",
    "\n",
    "<br/>\n",
    "<center><img src='./ieeeqw2020-abe-asfaw-talk-dependencies/images/box.png'></center>"
   ]
  },
  {
   "cell_type": "markdown",
   "metadata": {
    "slideshow": {
     "slide_type": "slide"
    }
   },
   "source": [
    "# Problem: How would you find the marked number in this box?\n",
    "\n",
    "<br/>\n",
    "<center><img src='./ieeeqw2020-abe-asfaw-talk-dependencies/images/box-empty.png'></center>\n",
    "\n",
    "### You can ask the box, \"Is this it?\" and specify a number. The box will say True only when your specified number matches the marked number. Otherwise, it says False."
   ]
  },
  {
   "cell_type": "code",
   "execution_count": 1,
   "metadata": {
    "slideshow": {
     "slide_type": "skip"
    }
   },
   "outputs": [],
   "source": [
    "import numpy as np\n",
    "import matplotlib.pyplot as plotter\n",
    "\n",
    "import sys\n",
    "sys.path.append(\"ieeeqw2020-abe-asfaw-talk-dependencies/\")\n",
    "\n",
    "import warnings\n",
    "warnings.filterwarnings('ignore')"
   ]
  },
  {
   "cell_type": "code",
   "execution_count": 2,
   "metadata": {
    "slideshow": {
     "slide_type": "slide"
    }
   },
   "outputs": [],
   "source": [
    "from marked_number_boxes import classical_box"
   ]
  },
  {
   "cell_type": "code",
   "execution_count": 3,
   "metadata": {
    "slideshow": {
     "slide_type": "fragment"
    }
   },
   "outputs": [
    {
     "name": "stdout",
     "output_type": "stream",
     "text": [
      "This is a classical box containing the marked number 13.\n"
     ]
    }
   ],
   "source": [
    "my_box = classical_box(100, print_self = True)"
   ]
  },
  {
   "cell_type": "code",
   "execution_count": 4,
   "metadata": {
    "slideshow": {
     "slide_type": "fragment"
    }
   },
   "outputs": [
    {
     "data": {
      "text/plain": [
       "False"
      ]
     },
     "execution_count": 4,
     "metadata": {},
     "output_type": "execute_result"
    }
   ],
   "source": [
    "my_box.is_this_it(33)"
   ]
  },
  {
   "cell_type": "code",
   "execution_count": 5,
   "metadata": {
    "slideshow": {
     "slide_type": "slide"
    }
   },
   "outputs": [
    {
     "name": "stdout",
     "output_type": "stream",
     "text": [
      "Found it! The number was 76.\n",
      "I needed 76 iterations.\n"
     ]
    }
   ],
   "source": [
    "max_number = 100\n",
    "my_box = classical_box(max_number)\n",
    "\n",
    "for x in range(1, max_number+1):\n",
    "    if my_box.is_this_it(x) == True:\n",
    "        print(f\"Found it! The number was {x}.\")\n",
    "        print(f\"I needed {my_box.how_many_times_invoked()} iterations.\")\n",
    "        break"
   ]
  },
  {
   "cell_type": "code",
   "execution_count": 6,
   "metadata": {
    "slideshow": {
     "slide_type": "slide"
    }
   },
   "outputs": [
    {
     "name": "stdout",
     "output_type": "stream",
     "text": [
      "Found it! The number was 81.\n",
      "I needed 52 iterations.\n"
     ]
    }
   ],
   "source": [
    "max_number = 100\n",
    "my_box = classical_box(max_number)\n",
    "\n",
    "possible_numbers = np.arange(1, max_number+1, dtype=int)\n",
    "np.random.shuffle(possible_numbers)\n",
    "\n",
    "for x in possible_numbers:\n",
    "    if my_box.is_this_it(x) == True:\n",
    "        print(f\"Found it! The number was {x}.\")\n",
    "        print(f\"I needed {my_box.how_many_times_invoked()} iterations.\")\n",
    "        break"
   ]
  },
  {
   "cell_type": "code",
   "execution_count": 7,
   "metadata": {
    "slideshow": {
     "slide_type": "slide"
    }
   },
   "outputs": [],
   "source": [
    "def one_by_one_strategy(max_number):\n",
    "\n",
    "    my_box = classical_box(max_number)\n",
    "\n",
    "    for x in range(1, max_number+1):\n",
    "        if my_box.is_this_it(x) == True:\n",
    "            return my_box.how_many_times_invoked()\n",
    "        \n",
    "def random_strategy(max_number):\n",
    "    \n",
    "    my_box = classical_box(max_number)\n",
    "\n",
    "    possible_numbers = np.arange(1, max_number+1, dtype=int)\n",
    "    np.random.shuffle(possible_numbers)\n",
    "\n",
    "    for x in possible_numbers:\n",
    "        if my_box.is_this_it(x) == True:\n",
    "            return my_box.how_many_times_invoked()"
   ]
  },
  {
   "cell_type": "code",
   "execution_count": 8,
   "metadata": {
    "slideshow": {
     "slide_type": "fragment"
    }
   },
   "outputs": [
    {
     "data": {
      "text/plain": [
       "83"
      ]
     },
     "execution_count": 8,
     "metadata": {},
     "output_type": "execute_result"
    }
   ],
   "source": [
    "one_by_one_strategy(100)"
   ]
  },
  {
   "cell_type": "code",
   "execution_count": 9,
   "metadata": {
    "slideshow": {
     "slide_type": "fragment"
    }
   },
   "outputs": [
    {
     "data": {
      "text/plain": [
       "83"
      ]
     },
     "execution_count": 9,
     "metadata": {},
     "output_type": "execute_result"
    }
   ],
   "source": [
    "random_strategy(100)"
   ]
  },
  {
   "cell_type": "code",
   "execution_count": 10,
   "metadata": {
    "slideshow": {
     "slide_type": "slide"
    }
   },
   "outputs": [],
   "source": [
    "max_number = 100\n",
    "\n",
    "attempts_one_by_one = []\n",
    "for _ in range(100000):\n",
    "    attempts_one_by_one.append(\n",
    "        one_by_one_strategy(max_number)\n",
    "    )"
   ]
  },
  {
   "cell_type": "code",
   "execution_count": 11,
   "metadata": {
    "slideshow": {
     "slide_type": "fragment"
    }
   },
   "outputs": [],
   "source": [
    "max_number = 100\n",
    "\n",
    "attempts_random = []\n",
    "for _ in range(100000):\n",
    "    attempts_random.append(\n",
    "        random_strategy(max_number)\n",
    "    )"
   ]
  },
  {
   "cell_type": "code",
   "execution_count": 12,
   "metadata": {
    "slideshow": {
     "slide_type": "slide"
    }
   },
   "outputs": [
    {
     "data": {
      "image/png": "[encoded data removed]",
      "text/plain": [
       "<Figure size 1296x432 with 2 Axes>"
      ]
     },
     "metadata": {
      "needs_background": "light"
     },
     "output_type": "display_data"
    }
   ],
   "source": [
    "fig, [ax1, ax2] = plotter.subplots(nrows=1, ncols=2, figsize = (18,6))\n",
    "\n",
    "ax1.hist(attempts_one_by_one, bins=50, ec='black', alpha=0.5)\n",
    "ax1.set_xlabel('Number of attempts', fontsize=16)\n",
    "plotter.setp(ax1.get_xticklabels(), fontsize=16)\n",
    "ax1.set_ylabel('Number of occurrences', fontsize=16)\n",
    "plotter.setp(ax1.get_yticklabels(), fontsize=16)\n",
    "ax1.set_title('One-by-one strategy', fontsize=16, fontweight='bold')\n",
    "\n",
    "ax2.hist(attempts_random, bins=50, ec='black', alpha=0.5)\n",
    "ax2.set_xlabel('Number of attempts', fontsize=16)\n",
    "plotter.setp(ax2.get_xticklabels(), fontsize=16)\n",
    "ax2.set_ylabel('Number of occurrences', fontsize=16)\n",
    "plotter.setp(ax2.get_yticklabels(), fontsize=16)\n",
    "ax2.set_title('Random strategy', fontsize=16, fontweight='bold')\n",
    "\n",
    "plotter.show()"
   ]
  },
  {
   "cell_type": "code",
   "execution_count": 13,
   "metadata": {
    "slideshow": {
     "slide_type": "slide"
    }
   },
   "outputs": [],
   "source": [
    "max_numbers = [10, 100, 1000]\n",
    "\n",
    "worst_case_one_by_one = []\n",
    "for max_number in max_numbers:\n",
    "\n",
    "    attempts_one_by_one = []\n",
    "    for _ in range(1000):\n",
    "        attempts_one_by_one.append(one_by_one_strategy(max_number))\n",
    "        \n",
    "    worst_case_one_by_one.append(max(attempts_one_by_one))"
   ]
  },
  {
   "cell_type": "code",
   "execution_count": 14,
   "metadata": {
    "slideshow": {
     "slide_type": "fragment"
    }
   },
   "outputs": [],
   "source": [
    "worst_case_random = []\n",
    "for max_number in max_numbers:\n",
    "\n",
    "    attempts_random = []\n",
    "    for _ in range(1000):\n",
    "        attempts_random.append(random_strategy(max_number))\n",
    "        \n",
    "    worst_case_random.append(max(attempts_random))"
   ]
  },
  {
   "cell_type": "code",
   "execution_count": 15,
   "metadata": {
    "scrolled": false,
    "slideshow": {
     "slide_type": "slide"
    }
   },
   "outputs": [
    {
     "data": {
      "image/png": "[encoded data removed]",
      "text/plain": [
       "<Figure size 1008x432 with 1 Axes>"
      ]
     },
     "metadata": {
      "needs_background": "light"
     },
     "output_type": "display_data"
    }
   ],
   "source": [
    "fig, ax = plotter.subplots(1,1, figsize = (14,6))\n",
    "ax.scatter(max_numbers, worst_case_one_by_one, marker = 'd', color='blue', s=80)\n",
    "ax.scatter(max_numbers, worst_case_random, color='red', s=32)\n",
    "\n",
    "ax.set_yscale('log'); ax.set_xscale('log')\n",
    "ax.set_xlabel('Maximum number in the box', fontsize=16)\n",
    "ax.set_ylabel('Worst-case number of attempts', fontsize=16)\n",
    "ax.legend(['One-by-one strategy', 'Random strategy'], fontsize=16)\n",
    "plotter.setp(ax.get_yticklabels(), fontsize=16)\n",
    "plotter.setp(ax.get_xticklabels(), fontsize=16)\n",
    "plotter.show()"
   ]
  },
  {
   "cell_type": "markdown",
   "metadata": {
    "slideshow": {
     "slide_type": "fragment"
    }
   },
   "source": [
    "### Worst-case performance of both strategies is the same, and is proportional to the size of the problem. "
   ]
  },
  {
   "cell_type": "markdown",
   "metadata": {
    "slideshow": {
     "slide_type": "slide"
    }
   },
   "source": [
    "# The quantum version of this problem"
   ]
  },
  {
   "cell_type": "code",
   "execution_count": 16,
   "metadata": {
    "slideshow": {
     "slide_type": "fragment"
    }
   },
   "outputs": [],
   "source": [
    "from marked_number_boxes import quantum_box"
   ]
  },
  {
   "cell_type": "code",
   "execution_count": 17,
   "metadata": {
    "slideshow": {
     "slide_type": "fragment"
    }
   },
   "outputs": [
    {
     "name": "stdout",
     "output_type": "stream",
     "text": [
      "This is a quantum box containing the marked number 77.\n"
     ]
    }
   ],
   "source": [
    "max_number = 100\n",
    "my_box = quantum_box(max_number, print_self = True)"
   ]
  },
  {
   "cell_type": "code",
   "execution_count": 18,
   "metadata": {
    "slideshow": {
     "slide_type": "fragment"
    }
   },
   "outputs": [
    {
     "data": {
      "text/plain": [
       "False"
      ]
     },
     "execution_count": 18,
     "metadata": {},
     "output_type": "execute_result"
    }
   ],
   "source": [
    "my_box.is_this_it(36)"
   ]
  },
  {
   "cell_type": "code",
   "execution_count": 19,
   "metadata": {
    "slideshow": {
     "slide_type": "fragment"
    }
   },
   "outputs": [
    {
     "data": {
      "text/plain": [
       "1"
      ]
     },
     "execution_count": 19,
     "metadata": {},
     "output_type": "execute_result"
    }
   ],
   "source": [
    "my_box.how_many_times_invoked()"
   ]
  },
  {
   "cell_type": "code",
   "execution_count": 20,
   "metadata": {
    "slideshow": {
     "slide_type": "slide"
    }
   },
   "outputs": [],
   "source": [
    "from marked_number_boxes import find_number_in_quantum_box"
   ]
  },
  {
   "cell_type": "code",
   "execution_count": 21,
   "metadata": {
    "scrolled": false,
    "slideshow": {
     "slide_type": "fragment"
    }
   },
   "outputs": [
    {
     "name": "stdout",
     "output_type": "stream",
     "text": [
      "Result 36 with probability 1.0%\n",
      "Result 61 with probability 99.0%\n"
     ]
    }
   ],
   "source": [
    "max_number = 100\n",
    "my_box = quantum_box(max_number)\n",
    "find_number_in_quantum_box(my_box, show_results=True)"
   ]
  },
  {
   "cell_type": "code",
   "execution_count": 22,
   "metadata": {
    "scrolled": false,
    "slideshow": {
     "slide_type": "fragment"
    }
   },
   "outputs": [
    {
     "data": {
      "text/plain": [
       "8"
      ]
     },
     "execution_count": 22,
     "metadata": {},
     "output_type": "execute_result"
    }
   ],
   "source": [
    "my_box.how_many_times_invoked()"
   ]
  },
  {
   "cell_type": "code",
   "execution_count": 23,
   "metadata": {
    "slideshow": {
     "slide_type": "slide"
    }
   },
   "outputs": [
    {
     "name": "stdout",
     "output_type": "stream",
     "text": [
      "Maximum number in box: 10, number of attempts: 3\n",
      "Maximum number in box: 100, number of attempts: 8\n",
      "Maximum number in box: 1000, number of attempts: 25\n"
     ]
    }
   ],
   "source": [
    "max_numbers = [10, 100, 1000]\n",
    "worst_case_quantum = []\n",
    "\n",
    "for max_number in max_numbers:\n",
    "    my_box = quantum_box(max_number)\n",
    "    find_number_in_quantum_box(my_box)\n",
    "    number_of_attempts = my_box.how_many_times_invoked()\n",
    "    print(f\"Maximum number in box: {max_number}, number of attempts: {number_of_attempts}\")\n",
    "    \n",
    "    worst_case_quantum.append(number_of_attempts)"
   ]
  },
  {
   "cell_type": "code",
   "execution_count": 24,
   "metadata": {
    "slideshow": {
     "slide_type": "slide"
    }
   },
   "outputs": [
    {
     "data": {
      "image/png": "[encoded data removed]",
      "text/plain": [
       "<Figure size 1008x432 with 1 Axes>"
      ]
     },
     "metadata": {
      "needs_background": "light"
     },
     "output_type": "display_data"
    }
   ],
   "source": [
    "fig, ax = plotter.subplots(1,1, figsize = (14,6))\n",
    "ax.plot(max_numbers, worst_case_random, marker = 'd', color='blue', markersize=16)\n",
    "ax.plot(max_numbers, worst_case_quantum, marker = '.', color='red', markersize=24)\n",
    "\n",
    "ax.set_yscale('log'); ax.set_xscale('log')\n",
    "ax.set_xlabel('Maximum number in the box', fontsize=16)\n",
    "ax.set_ylabel('Worst-case number of attempts', fontsize=16)\n",
    "ax.legend(['Classical strategy', 'Quantum strategy'], fontsize=16)\n",
    "plotter.setp(ax.get_yticklabels(), fontsize=16)\n",
    "plotter.setp(ax.get_xticklabels(), fontsize=16)\n",
    "plotter.show()"
   ]
  },
  {
   "cell_type": "markdown",
   "metadata": {
    "slideshow": {
     "slide_type": "fragment"
    }
   },
   "source": [
    "### Quantum programming allows us to reduce the worst-case number of attempts from exactly the size of the problem to ~square-root of the size of the problem."
   ]
  },
  {
   "cell_type": "markdown",
   "metadata": {
    "slideshow": {
     "slide_type": "slide"
    }
   },
   "source": [
    "# Running on a real quantum computer"
   ]
  },
  {
   "cell_type": "code",
   "execution_count": 25,
   "metadata": {
    "slideshow": {
     "slide_type": "fragment"
    }
   },
   "outputs": [
    {
     "name": "stdout",
     "output_type": "stream",
     "text": [
      "This is a quantum box containing the marked number 8.\n"
     ]
    }
   ],
   "source": [
    "max_number = 8\n",
    "my_box = quantum_box(max_number, print_self = True)"
   ]
  },
  {
   "cell_type": "code",
   "execution_count": 26,
   "metadata": {
    "slideshow": {
     "slide_type": "fragment"
    }
   },
   "outputs": [],
   "source": [
    "quantum_program = find_number_in_quantum_box(my_box)"
   ]
  },
  {
   "cell_type": "code",
   "execution_count": 27,
   "metadata": {
    "slideshow": {
     "slide_type": "slide"
    }
   },
   "outputs": [
    {
     "name": "stdout",
     "output_type": "stream",
     "text": [
      "Job Status: job has successfully run\n"
     ]
    }
   ],
   "source": [
    "from qiskit import IBMQ, execute\n",
    "provider = IBMQ.load_account()\n",
    "quantum_computer = provider.get_backend('ibmq_valencia')\n",
    "job = execute(quantum_program, backend=quantum_computer, optimization_level=3, shots=8192)\n",
    "\n",
    "from qiskit.tools.monitor import job_monitor\n",
    "job_monitor(job)\n",
    "counts = job.result().get_counts()"
   ]
  },
  {
   "cell_type": "code",
   "execution_count": 28,
   "metadata": {
    "slideshow": {
     "slide_type": "fragment"
    }
   },
   "outputs": [
    {
     "data": {
      "image/png": "[encoded data removed]",
      "text/plain": [
       "<Figure size 504x360 with 1 Axes>"
      ]
     },
     "execution_count": 28,
     "metadata": {},
     "output_type": "execute_result"
    }
   ],
   "source": [
    "plot_counts = {}\n",
    "for count in counts:\n",
    "    plot_counts[int(count, 2) + 1] = counts[count]\n",
    "    \n",
    "from qiskit.visualization import plot_histogram\n",
    "plot_histogram(plot_counts)"
   ]
  },
  {
   "cell_type": "markdown",
   "metadata": {
    "slideshow": {
     "slide_type": "slide"
    }
   },
   "source": [
    "# Motivation: Why Quantum Computing?\n",
    "\n",
    "- Potential speedup on problems that exist today using quantum programming\n",
    "  - Here, saw the application of quantum programming for unstructured search to get square-root speedup\n",
    "  - Factoring numbers into primes has been shown to have ~exponential speedup on a quantum computer"
   ]
  },
  {
   "cell_type": "markdown",
   "metadata": {
    "slideshow": {
     "slide_type": "fragment"
    }
   },
   "source": [
    "- Solutions to problems that are too challenging to solve today\n",
    "  - Examples include chemical simulations, physics problems, and likely many undiscovered applications"
   ]
  }
 ],
 "metadata": {
  "celltoolbar": "Slideshow",
  "kernelspec": {
   "display_name": "qiskitdevl",
   "language": "python",
   "name": "qiskitdevl"
  },
  "language_info": {
   "codemirror_mode": {
    "name": "ipython",
    "version": 3
   },
   "file_extension": ".py",
   "mimetype": "text/x-python",
   "name": "python",
   "nbconvert_exporter": "python",
   "pygments_lexer": "ipython3",
   "version": "3.8.2"
  },
  "rise": {
   "theme": "serif"
  }
 },
 "nbformat": 4,
 "nbformat_minor": 4
}
