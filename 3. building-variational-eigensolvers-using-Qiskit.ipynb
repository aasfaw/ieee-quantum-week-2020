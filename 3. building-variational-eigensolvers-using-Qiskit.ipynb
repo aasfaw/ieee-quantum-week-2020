{
 "cells": [
  {
   "cell_type": "markdown",
   "metadata": {
    "slideshow": {
     "slide_type": "slide"
    }
   },
   "source": [
    "# Tutorial on Quantum Programming: An Introduction\n",
    "\n",
    "### Earlier: <br/>1/3 Motivation: Why Quantum Computing? <br/>2/3 Elements of Quantum Programming\n",
    "### Now: <br/> 3/3 Solving Problems with Quantum Programs\n",
    "\n",
    "### Abraham Asfaw (@abe_asfaw), IBM Quantum"
   ]
  },
  {
   "cell_type": "markdown",
   "metadata": {
    "slideshow": {
     "slide_type": "slide"
    }
   },
   "source": [
    "# So far, we have seen quantum programs where classical computers are used to interpret measurement outcomes.\n",
    "\n",
    "# Variational eigensolvers = hybrid quantum-classical algorithms"
   ]
  },
  {
   "cell_type": "markdown",
   "metadata": {
    "slideshow": {
     "slide_type": "slide"
    }
   },
   "source": [
    "# Building variational eigensolvers using Qiskit"
   ]
  },
  {
   "cell_type": "code",
   "execution_count": 1,
   "metadata": {
    "slideshow": {
     "slide_type": "skip"
    }
   },
   "outputs": [],
   "source": [
    "import numpy as np\n",
    "import matplotlib.pyplot as plotter\n",
    "\n",
    "import sys\n",
    "sys.path.append(\"ieeeqw2020-abe-asfaw-talk-dependencies/\")\n",
    "\n",
    "import warnings\n",
    "warnings.filterwarnings('ignore')"
   ]
  },
  {
   "cell_type": "code",
   "execution_count": 2,
   "metadata": {
    "slideshow": {
     "slide_type": "slide"
    }
   },
   "outputs": [
    {
     "data": {
      "image/png": "[encoded data removed]",
      "text/plain": [
       "<Figure size 411.859x144.48 with 1 Axes>"
      ]
     },
     "execution_count": 2,
     "metadata": {},
     "output_type": "execute_result"
    }
   ],
   "source": [
    "from qiskit import QuantumCircuit\n",
    "\n",
    "my_circuit = QuantumCircuit(1)\n",
    "\n",
    "my_circuit.reset(0)\n",
    "my_circuit.u3(theta = 2, phi = 2, lam = 0, qubit=0) # can change theta, phi and lam\n",
    "my_circuit.measure_all()\n",
    "\n",
    "my_circuit.draw()"
   ]
  },
  {
   "cell_type": "code",
   "execution_count": 3,
   "metadata": {
    "slideshow": {
     "slide_type": "fragment"
    }
   },
   "outputs": [
    {
     "name": "stdout",
     "output_type": "stream",
     "text": [
      "{'0': 2961, '1': 7039}\n"
     ]
    },
    {
     "data": {
      "image/png": "[encoded data removed]",
      "text/plain": [
       "<Figure size 504x360 with 1 Axes>"
      ]
     },
     "execution_count": 3,
     "metadata": {},
     "output_type": "execute_result"
    }
   ],
   "source": [
    "from qiskit import execute, Aer\n",
    "\n",
    "simulator = Aer.get_backend('qasm_simulator')\n",
    "counts = execute(my_circuit, backend=simulator, shots=10000).result().get_counts()\n",
    "\n",
    "from qiskit.visualization import plot_histogram\n",
    "print(counts)\n",
    "plot_histogram(counts)"
   ]
  },
  {
   "cell_type": "markdown",
   "metadata": {
    "slideshow": {
     "slide_type": "slide"
    }
   },
   "source": [
    "# First, let's define the cost. Want closer to `1`"
   ]
  },
  {
   "cell_type": "code",
   "execution_count": 4,
   "metadata": {
    "slideshow": {
     "slide_type": "fragment"
    }
   },
   "outputs": [],
   "source": [
    "def cost(given_counts):\n",
    "    \n",
    "    if '0' not in given_counts:\n",
    "        given_counts['0'] = 0\n",
    "    if '1' not in given_counts:\n",
    "        given_counts['1'] = 0\n",
    "    \n",
    "    total_counts = given_counts['0'] + given_counts['1']\n",
    "\n",
    "    return given_counts['0'] * 1.0 / total_counts"
   ]
  },
  {
   "cell_type": "markdown",
   "metadata": {
    "slideshow": {
     "slide_type": "slide"
    }
   },
   "source": [
    "# Next, define a single iteration between a quantum computer and a classical computer"
   ]
  },
  {
   "cell_type": "code",
   "execution_count": 5,
   "metadata": {
    "slideshow": {
     "slide_type": "fragment"
    }
   },
   "outputs": [],
   "source": [
    "def run_once(params, print_counts = False):\n",
    "    \n",
    "    theta = params[0]\n",
    "    phi = params[1]\n",
    "    lam = params[2]\n",
    "    \n",
    "    my_circuit = QuantumCircuit(1)\n",
    "    \n",
    "    my_circuit.reset(0)\n",
    "    my_circuit.u3(theta = theta, phi = phi, lam = lam, qubit=0)\n",
    "    my_circuit.measure_all()\n",
    "    \n",
    "    simulator = Aer.get_backend('qasm_simulator')\n",
    "    counts = execute(my_circuit, backend=simulator, shots=10000).result().get_counts()\n",
    "    \n",
    "    if print_counts: print(counts)\n",
    "    \n",
    "    return cost(counts)"
   ]
  },
  {
   "cell_type": "code",
   "execution_count": 6,
   "metadata": {
    "slideshow": {
     "slide_type": "fragment"
    }
   },
   "outputs": [
    {
     "data": {
      "text/plain": [
       "1.0"
      ]
     },
     "execution_count": 6,
     "metadata": {},
     "output_type": "execute_result"
    }
   ],
   "source": [
    "run_once([0,0,0])"
   ]
  },
  {
   "cell_type": "markdown",
   "metadata": {},
   "source": [
    "# Finally, let a classical computer iterate over this back-and-forth"
   ]
  },
  {
   "cell_type": "code",
   "execution_count": 7,
   "metadata": {
    "slideshow": {
     "slide_type": "slide"
    }
   },
   "outputs": [],
   "source": [
    "from scipy.optimize import minimize\n",
    "\n",
    "def variational_loop():    \n",
    "    res = minimize(run_once, [0,0,0], method='cobyla')\n",
    "    print(res)\n",
    "    print(res.x)"
   ]
  },
  {
   "cell_type": "code",
   "execution_count": 8,
   "metadata": {
    "slideshow": {
     "slide_type": "fragment"
    }
   },
   "outputs": [
    {
     "name": "stdout",
     "output_type": "stream",
     "text": [
      "     fun: 0.0\n",
      "   maxcv: 0.0\n",
      " message: 'Optimization terminated successfully.'\n",
      "    nfev: 33\n",
      "  status: 1\n",
      " success: True\n",
      "       x: array([3.13635831, 0.90426495, 0.13279023])\n",
      "[3.13635831 0.90426495 0.13279023]\n"
     ]
    }
   ],
   "source": [
    "variational_loop()"
   ]
  },
  {
   "cell_type": "code",
   "execution_count": 9,
   "metadata": {
    "slideshow": {
     "slide_type": "fragment"
    }
   },
   "outputs": [
    {
     "name": "stdout",
     "output_type": "stream",
     "text": [
      "{'1': 10000}\n"
     ]
    },
    {
     "data": {
      "text/plain": [
       "0.0"
      ]
     },
     "execution_count": 9,
     "metadata": {},
     "output_type": "execute_result"
    }
   ],
   "source": [
    "run_once([ 3.11335975, -0.36002647, -0.0745348 ], print_counts = True)"
   ]
  }
 ],
 "metadata": {
  "celltoolbar": "Slideshow",
  "kernelspec": {
   "display_name": "qiskitdevl",
   "language": "python",
   "name": "qiskitdevl"
  },
  "language_info": {
   "codemirror_mode": {
    "name": "ipython",
    "version": 3
   },
   "file_extension": ".py",
   "mimetype": "text/x-python",
   "name": "python",
   "nbconvert_exporter": "python",
   "pygments_lexer": "ipython3",
   "version": "3.8.2"
  },
  "rise": {
   "theme": "serif"
  }
 },
 "nbformat": 4,
 "nbformat_minor": 4
}
