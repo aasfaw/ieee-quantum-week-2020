{
 "cells": [
  {
   "cell_type": "markdown",
   "metadata": {
    "slideshow": {
     "slide_type": "slide"
    }
   },
   "source": [
    "# Tutorial on Quantum Programming: An Introduction\n",
    "\n",
    "### Earlier: <br/>1/3 Motivation: Why Quantum Computing? <br/>2/3 Elements of Quantum Programming\n",
    "### Now: <br/> 3/3 Solving Problems with Quantum Programs\n",
    "\n",
    "### `Abraham Asfaw`, IBM Quantum <br/> twitter: `@abe_asfaw`<br/> github: `@aasfaw`\n",
    "<center><img src='./ieeeqw2020-abe-asfaw-talk-dependencies/images/gitimage.png'></center>"
   ]
  },
  {
   "cell_type": "markdown",
   "metadata": {
    "slideshow": {
     "slide_type": "slide"
    }
   },
   "source": [
    "# So far, we have seen quantum programs where classical computers are used to interpret measurement outcomes.\n",
    "\n",
    "# Variational eigensolvers = hybrid quantum-classical algorithms"
   ]
  },
  {
   "cell_type": "markdown",
   "metadata": {
    "slideshow": {
     "slide_type": "slide"
    }
   },
   "source": [
    "# Building variational eigensolvers using Qiskit"
   ]
  },
  {
   "cell_type": "code",
   "execution_count": 1,
   "metadata": {
    "slideshow": {
     "slide_type": "skip"
    }
   },
   "outputs": [],
   "source": [
    "import numpy as np\n",
    "import matplotlib.pyplot as plotter\n",
    "\n",
    "import sys\n",
    "sys.path.append(\"ieeeqw2020-abe-asfaw-talk-dependencies/\")\n",
    "\n",
    "import warnings\n",
    "warnings.filterwarnings('ignore')"
   ]
  },
  {
   "cell_type": "code",
   "execution_count": 2,
   "metadata": {
    "slideshow": {
     "slide_type": "fragment"
    }
   },
   "outputs": [
    {
     "data": {
      "image/png": "[encoded data removed]",
      "text/plain": [
       "<Figure size 411.859x144.48 with 1 Axes>"
      ]
     },
     "execution_count": 2,
     "metadata": {},
     "output_type": "execute_result"
    }
   ],
   "source": [
    "from qiskit import QuantumCircuit\n",
    "\n",
    "my_circuit = QuantumCircuit(1)\n",
    "\n",
    "my_circuit.reset(0)\n",
    "my_circuit.u3(theta = 2, phi = 2, lam = 0, qubit=0) # can change theta, phi and lam\n",
    "my_circuit.measure_all()\n",
    "\n",
    "my_circuit.draw()"
   ]
  },
  {
   "cell_type": "code",
   "execution_count": 3,
   "metadata": {
    "slideshow": {
     "slide_type": "fragment"
    }
   },
   "outputs": [
    {
     "name": "stdout",
     "output_type": "stream",
     "text": [
      "{'0': 2876, '1': 7124}\n"
     ]
    },
    {
     "data": {
      "image/png": "[encoded data removed]",
      "text/plain": [
       "<Figure size 504x360 with 1 Axes>"
      ]
     },
     "execution_count": 3,
     "metadata": {},
     "output_type": "execute_result"
    }
   ],
   "source": [
    "from qiskit import execute, Aer\n",
    "\n",
    "simulator = Aer.get_backend('qasm_simulator')\n",
    "counts = execute(my_circuit, backend=simulator, shots=10000).result().get_counts()\n",
    "\n",
    "from qiskit.visualization import plot_histogram\n",
    "print(counts)\n",
    "plot_histogram(counts)"
   ]
  },
  {
   "cell_type": "markdown",
   "metadata": {
    "slideshow": {
     "slide_type": "slide"
    }
   },
   "source": [
    "# First, let's define the cost. Want closer to `1`"
   ]
  },
  {
   "cell_type": "code",
   "execution_count": 4,
   "metadata": {
    "slideshow": {
     "slide_type": "fragment"
    }
   },
   "outputs": [],
   "source": [
    "def cost(given_counts):\n",
    "    \n",
    "    if '0' not in given_counts:\n",
    "        given_counts['0'] = 0\n",
    "    if '1' not in given_counts:\n",
    "        given_counts['1'] = 0\n",
    "    \n",
    "    total_counts = given_counts['0'] + given_counts['1']\n",
    "\n",
    "    return given_counts['0'] * 1.0 / total_counts"
   ]
  },
  {
   "cell_type": "markdown",
   "metadata": {
    "slideshow": {
     "slide_type": "slide"
    }
   },
   "source": [
    "# Next, define a single iteration between a quantum computer and a classical computer"
   ]
  },
  {
   "cell_type": "code",
   "execution_count": 5,
   "metadata": {
    "slideshow": {
     "slide_type": "fragment"
    }
   },
   "outputs": [],
   "source": [
    "def run_once(params, print_counts = False):\n",
    "    \n",
    "    theta = params[0]\n",
    "    phi = params[1]\n",
    "    lam = params[2]\n",
    "    \n",
    "    my_circuit = QuantumCircuit(1)\n",
    "    \n",
    "    my_circuit.reset(0)\n",
    "    my_circuit.u3(theta = theta, phi = phi, lam = lam, qubit=0)\n",
    "    my_circuit.measure_all()\n",
    "    \n",
    "    simulator = Aer.get_backend('qasm_simulator')\n",
    "    counts = execute(my_circuit, backend=simulator, shots=10000).result().get_counts()\n",
    "    \n",
    "    if print_counts: print(counts)\n",
    "    \n",
    "    computed_cost = cost(counts)\n",
    "    global costs\n",
    "    costs.append(computed_cost)\n",
    "    \n",
    "    return computed_cost"
   ]
  },
  {
   "cell_type": "code",
   "execution_count": 6,
   "metadata": {
    "slideshow": {
     "slide_type": "fragment"
    }
   },
   "outputs": [
    {
     "data": {
      "text/plain": [
       "1.0"
      ]
     },
     "execution_count": 6,
     "metadata": {},
     "output_type": "execute_result"
    }
   ],
   "source": [
    "costs = []\n",
    "run_once([0,0,0])"
   ]
  },
  {
   "cell_type": "markdown",
   "metadata": {
    "slideshow": {
     "slide_type": "slide"
    }
   },
   "source": [
    "# Finally, let a classical computer iterate over this back-and-forth"
   ]
  },
  {
   "cell_type": "code",
   "execution_count": 7,
   "metadata": {
    "slideshow": {
     "slide_type": "fragment"
    }
   },
   "outputs": [],
   "source": [
    "from scipy.optimize import minimize\n",
    "\n",
    "def variational_loop():    \n",
    "    res = minimize(run_once, [0,0,0], method='cobyla')\n",
    "    return res"
   ]
  },
  {
   "cell_type": "code",
   "execution_count": 8,
   "metadata": {
    "slideshow": {
     "slide_type": "fragment"
    }
   },
   "outputs": [
    {
     "name": "stdout",
     "output_type": "stream",
     "text": [
      "     fun: 0.0\n",
      "   maxcv: 0.0\n",
      " message: 'Optimization terminated successfully.'\n",
      "    nfev: 36\n",
      "  status: 1\n",
      " success: True\n",
      "       x: array([3.12905337, 1.49639612, 0.77902749])\n"
     ]
    }
   ],
   "source": [
    "costs = []\n",
    "result = variational_loop()\n",
    "print(result)"
   ]
  },
  {
   "cell_type": "code",
   "execution_count": 9,
   "metadata": {
    "slideshow": {
     "slide_type": "fragment"
    }
   },
   "outputs": [
    {
     "name": "stdout",
     "output_type": "stream",
     "text": [
      "{'1': 10000}\n"
     ]
    },
    {
     "data": {
      "text/plain": [
       "0.0"
      ]
     },
     "execution_count": 9,
     "metadata": {},
     "output_type": "execute_result"
    }
   ],
   "source": [
    "run_once(result.x, print_counts = True)"
   ]
  },
  {
   "cell_type": "code",
   "execution_count": 10,
   "metadata": {
    "slideshow": {
     "slide_type": "slide"
    }
   },
   "outputs": [
    {
     "data": {
      "image/png": "[encoded data removed]",
      "text/plain": [
       "<Figure size 432x288 with 1 Axes>"
      ]
     },
     "metadata": {
      "needs_background": "light"
     },
     "output_type": "display_data"
    }
   ],
   "source": [
    "import matplotlib.pyplot as plotter\n",
    "plotter.plot(list(range(len(costs))), costs, 'k.-', markersize=14)\n",
    "plotter.xlabel('Iteration number', fontsize=16)\n",
    "plotter.ylabel('Cost', fontsize=16)\n",
    "plotter.show()"
   ]
  },
  {
   "cell_type": "markdown",
   "metadata": {
    "slideshow": {
     "slide_type": "slide"
    }
   },
   "source": [
    "# Running this on real quantum hardware"
   ]
  },
  {
   "cell_type": "code",
   "execution_count": 11,
   "metadata": {
    "slideshow": {
     "slide_type": "fragment"
    }
   },
   "outputs": [],
   "source": [
    "from qiskit import IBMQ\n",
    "provider = IBMQ.load_account()\n",
    "quantum_computer = provider.get_backend('ibmq_valencia')\n",
    "\n",
    "from qiskit.tools.monitor import job_monitor"
   ]
  },
  {
   "cell_type": "code",
   "execution_count": 12,
   "metadata": {
    "slideshow": {
     "slide_type": "fragment"
    }
   },
   "outputs": [],
   "source": [
    "def run_once(params, print_counts = False):\n",
    "    \n",
    "    theta = params[0]\n",
    "    phi = params[1]\n",
    "    lam = params[2]\n",
    "    \n",
    "    my_circuit = QuantumCircuit(1)\n",
    "    \n",
    "    my_circuit.reset(0)\n",
    "    my_circuit.u3(theta = theta, phi = phi, lam = lam, qubit=0)\n",
    "    my_circuit.measure_all()\n",
    "    \n",
    "    job = execute(my_circuit, backend=quantum_computer, shots=2048)\n",
    "    job_monitor(job)\n",
    "    \n",
    "    counts = job.result().get_counts()\n",
    "    if print_counts: print(counts)\n",
    "    \n",
    "    computed_cost = cost(counts)\n",
    "    global costs\n",
    "    costs.append(computed_cost)\n",
    "    \n",
    "    return computed_cost"
   ]
  },
  {
   "cell_type": "code",
   "execution_count": 13,
   "metadata": {
    "slideshow": {
     "slide_type": "slide"
    }
   },
   "outputs": [],
   "source": [
    "def variational_loop():    \n",
    "    res = minimize(run_once, [0,0,0], method='cobyla')\n",
    "    return res"
   ]
  },
  {
   "cell_type": "code",
   "execution_count": 14,
   "metadata": {
    "slideshow": {
     "slide_type": "fragment"
    }
   },
   "outputs": [
    {
     "name": "stdout",
     "output_type": "stream",
     "text": [
      "Job Status: job has successfully run\n",
      "Job Status: job has successfully run\n",
      "Job Status: job has successfully run\n",
      "Job Status: job has successfully run\n",
      "Job Status: job has successfully run\n",
      "Job Status: job has successfully run\n",
      "Job Status: job has successfully run\n",
      "Job Status: job has successfully run\n",
      "Job Status: job has successfully run\n",
      "Job Status: job has successfully run\n",
      "Job Status: job has successfully run\n",
      "Job Status: job has successfully run\n",
      "Job Status: job has successfully run\n",
      "Job Status: job has successfully run\n",
      "Job Status: job has successfully run\n",
      "Job Status: job has successfully run\n",
      "Job Status: job has successfully run\n",
      "Job Status: job has successfully run\n",
      "Job Status: job has successfully run\n",
      "Job Status: job has successfully run\n",
      "Job Status: job has successfully run\n",
      "Job Status: job has successfully run\n",
      "Job Status: job has successfully run\n",
      "Job Status: job has successfully run\n",
      "Job Status: job has successfully run\n",
      "Job Status: job has successfully run\n",
      "Job Status: job has successfully run\n",
      "Job Status: job has successfully run\n",
      "Job Status: job has successfully run\n",
      "Job Status: job has successfully run\n",
      "Job Status: job has successfully run\n",
      "Job Status: job has successfully run\n",
      "Job Status: job has successfully run\n",
      "Job Status: job has successfully run\n",
      "Job Status: job has successfully run\n",
      "Job Status: job has successfully run\n",
      "Job Status: job has successfully run\n",
      "Job Status: job has successfully run\n",
      "Job Status: job has successfully run\n",
      "Job Status: job has successfully run\n",
      "     fun: 0.0458984375\n",
      "   maxcv: 0.0\n",
      " message: 'Optimization terminated successfully.'\n",
      "    nfev: 40\n",
      "  status: 1\n",
      " success: True\n",
      "       x: array([ 3.15793527, -0.44776735,  0.7463671 ])\n"
     ]
    }
   ],
   "source": [
    "costs = []\n",
    "result = variational_loop()\n",
    "print(result)"
   ]
  },
  {
   "cell_type": "code",
   "execution_count": 15,
   "metadata": {
    "slideshow": {
     "slide_type": "slide"
    }
   },
   "outputs": [
    {
     "data": {
      "image/png": "[encoded data removed]",
      "text/plain": [
       "<Figure size 432x288 with 1 Axes>"
      ]
     },
     "metadata": {
      "needs_background": "light"
     },
     "output_type": "display_data"
    }
   ],
   "source": [
    "plotter.plot(list(range(len(costs))), costs, 'k.-', markersize=14)\n",
    "plotter.xlabel('Iteration number', fontsize=16)\n",
    "plotter.ylabel('Cost', fontsize=16)\n",
    "plotter.show()"
   ]
  },
  {
   "cell_type": "code",
   "execution_count": 16,
   "metadata": {
    "slideshow": {
     "slide_type": "fragment"
    }
   },
   "outputs": [
    {
     "name": "stdout",
     "output_type": "stream",
     "text": [
      "Job Status: job has successfully run\n"
     ]
    },
    {
     "data": {
      "text/plain": [
       "0.03955078125"
      ]
     },
     "execution_count": 16,
     "metadata": {},
     "output_type": "execute_result"
    }
   ],
   "source": [
    "run_once(result.x)"
   ]
  }
 ],
 "metadata": {
  "celltoolbar": "Slideshow",
  "kernelspec": {
   "display_name": "qiskitdevl",
   "language": "python",
   "name": "qiskitdevl"
  },
  "language_info": {
   "codemirror_mode": {
    "name": "ipython",
    "version": 3
   },
   "file_extension": ".py",
   "mimetype": "text/x-python",
   "name": "python",
   "nbconvert_exporter": "python",
   "pygments_lexer": "ipython3",
   "version": "3.8.2"
  },
  "rise": {
   "theme": "serif"
  }
 },
 "nbformat": 4,
 "nbformat_minor": 4
}
